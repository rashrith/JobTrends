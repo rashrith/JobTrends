{
 "cells": [
  {
   "cell_type": "code",
   "execution_count": 1,
   "metadata": {},
   "outputs": [],
   "source": [
    "import numpy as np\n",
    "import matplotlib.pyplot as plt\n",
    "import pandas as pd\n",
    "from sklearn.preprocessing import LabelEncoder,OneHotEncoder\n",
    "from sklearn.model_selection import train_test_split\n",
    "from sklearn.preprocessing import StandardScaler\n",
    "from sklearn.naive_bayes import GaussianNB\n",
    "from sklearn.metrics import mean_squared_error \n",
    "from sklearn import pipeline,preprocessing,metrics,model_selection,ensemble\n",
    "from sklearn_pandas import DataFrameMapper"
   ]
  },
  {
   "cell_type": "code",
   "execution_count": 2,
   "metadata": {},
   "outputs": [],
   "source": [
    "dataset =pd.read_csv('Mini_project.csv')"
   ]
  },
  {
   "cell_type": "code",
   "execution_count": 3,
   "metadata": {},
   "outputs": [
    {
     "name": "stdout",
     "output_type": "stream",
     "text": [
      "<class 'pandas.core.frame.DataFrame'>\n",
      "RangeIndex: 109 entries, 0 to 108\n",
      "Data columns (total 6 columns):\n",
      " #   Column         Non-Null Count  Dtype \n",
      "---  ------         --------------  ----- \n",
      " 0   expierence     109 non-null    int64 \n",
      " 1   location       109 non-null    object\n",
      " 2   qualification  109 non-null    object\n",
      " 3   salary         109 non-null    int64 \n",
      " 4   sector         109 non-null    object\n",
      " 5   job            109 non-null    object\n",
      "dtypes: int64(2), object(4)\n",
      "memory usage: 5.2+ KB\n"
     ]
    }
   ],
   "source": [
    "dataset.info()"
   ]
  },
  {
   "cell_type": "code",
   "execution_count": 4,
   "metadata": {},
   "outputs": [
    {
     "data": {
      "text/html": [
       "<div>\n",
       "<style scoped>\n",
       "    .dataframe tbody tr th:only-of-type {\n",
       "        vertical-align: middle;\n",
       "    }\n",
       "\n",
       "    .dataframe tbody tr th {\n",
       "        vertical-align: top;\n",
       "    }\n",
       "\n",
       "    .dataframe thead th {\n",
       "        text-align: right;\n",
       "    }\n",
       "</style>\n",
       "<table border=\"1\" class=\"dataframe\">\n",
       "  <thead>\n",
       "    <tr style=\"text-align: right;\">\n",
       "      <th></th>\n",
       "      <th>expierence</th>\n",
       "      <th>location</th>\n",
       "      <th>qualification</th>\n",
       "      <th>salary</th>\n",
       "      <th>sector</th>\n",
       "      <th>job</th>\n",
       "    </tr>\n",
       "  </thead>\n",
       "  <tbody>\n",
       "    <tr>\n",
       "      <th>0</th>\n",
       "      <td>0</td>\n",
       "      <td>Hyderabad</td>\n",
       "      <td>B.Tech</td>\n",
       "      <td>100000</td>\n",
       "      <td>Telecom ISP</td>\n",
       "      <td>Field Engineers</td>\n",
       "    </tr>\n",
       "    <tr>\n",
       "      <th>1</th>\n",
       "      <td>0</td>\n",
       "      <td>Hyderabad</td>\n",
       "      <td>B.Tech</td>\n",
       "      <td>100000</td>\n",
       "      <td>Telecom ISP</td>\n",
       "      <td>UI Developer</td>\n",
       "    </tr>\n",
       "    <tr>\n",
       "      <th>2</th>\n",
       "      <td>0</td>\n",
       "      <td>Hyderabad</td>\n",
       "      <td>B.Tech</td>\n",
       "      <td>200000</td>\n",
       "      <td>Telecom ISP</td>\n",
       "      <td>Trainee Engineer</td>\n",
       "    </tr>\n",
       "    <tr>\n",
       "      <th>3</th>\n",
       "      <td>0</td>\n",
       "      <td>Hyderabad</td>\n",
       "      <td>B.Tech</td>\n",
       "      <td>200000</td>\n",
       "      <td>Telecom ISP</td>\n",
       "      <td>SEO intern</td>\n",
       "    </tr>\n",
       "    <tr>\n",
       "      <th>4</th>\n",
       "      <td>0</td>\n",
       "      <td>Hyderabad</td>\n",
       "      <td>B.Tech</td>\n",
       "      <td>100000</td>\n",
       "      <td>Telecom ISP</td>\n",
       "      <td>Field Engineers</td>\n",
       "    </tr>\n",
       "  </tbody>\n",
       "</table>\n",
       "</div>"
      ],
      "text/plain": [
       "   expierence   location qualification  salary       sector               job\n",
       "0           0  Hyderabad        B.Tech  100000  Telecom ISP   Field Engineers\n",
       "1           0  Hyderabad        B.Tech  100000  Telecom ISP      UI Developer\n",
       "2           0  Hyderabad        B.Tech  200000  Telecom ISP  Trainee Engineer\n",
       "3           0  Hyderabad        B.Tech  200000  Telecom ISP        SEO intern\n",
       "4           0  Hyderabad        B.Tech  100000  Telecom ISP   Field Engineers"
      ]
     },
     "execution_count": 4,
     "metadata": {},
     "output_type": "execute_result"
    }
   ],
   "source": [
    "dataset.head()"
   ]
  },
  {
   "cell_type": "code",
   "execution_count": 5,
   "metadata": {},
   "outputs": [
    {
     "name": "stdout",
     "output_type": "stream",
     "text": [
      "[[0 'Hyderabad' 'B.Tech' 100000 'Telecom ISP']\n",
      " [0 'Hyderabad' 'B.Tech' 100000 'Telecom ISP']\n",
      " [0 'Hyderabad' 'B.Tech' 200000 'Telecom ISP']\n",
      " [0 'Hyderabad' 'B.Tech' 200000 'Telecom ISP']\n",
      " [0 'Hyderabad' 'B.Tech' 100000 'Telecom ISP']\n",
      " [0 'Hyderabad' 'B.Tech' 100000 'Telecom ISP']\n",
      " [0 'Hyderabad' 'B.Tech' 200000 'Telecom ISP']\n",
      " [0 'Hyderabad' 'B.Tech' 200000 'Telecom ISP']\n",
      " [0 'Hyderabad' 'B.Tech' 400000 'Telecom ISP']\n",
      " [0 'Hyderabad' 'B.Tech' 400000 'Telecom ISP']\n",
      " [0 'Banglore' 'B.Tech' 175000 'IT-Software']\n",
      " [0 'Rajkot' 'B.Tech' 180000 'IT-Software']\n",
      " [0 'Pune' 'B.Tech' 125000 'IT-Software']\n",
      " [1 'Nagpur' 'B.Tech' 60000 'IT-Software']\n",
      " [1 'Gurgoan' 'B.Tech' 275000 'IT-Software']\n",
      " [1 'Surat' 'B.Tech' 100000 'IT-Software']\n",
      " [1 'Agra' 'B.Tech' 275000 'IT-Software']\n",
      " [1 'Mohali' 'B.Tech' 175000 'IT-Software']\n",
      " [1 'Ranchi' 'B.Tech' 275000 'IT-Software']\n",
      " [0 'Kochi' 'B.Tech' 60000 'IT-Software']\n",
      " [0 'Mumbai' 'MBA' 200000 'Sales']\n",
      " [2 'Mohali' 'MBA' 3000000 'Sales']\n",
      " [0 'Mumbai' 'MBA' 175000 'Sales']\n",
      " [0 'Lucknow' 'MBA' 150000 'Sales']\n",
      " [0 'Delhi' 'MBA' 175000 'Sales']\n",
      " [0 'Banglore' 'MBA' 250000 'Sales']\n",
      " [2 'Banglore' 'MBA' 200000 'Sales']\n",
      " [0 'Banglore' 'MBA' 125000 'Sales']\n",
      " [0 'Mumbai' 'MBA' 175000 'Sales']\n",
      " [1 'Ahmednagar' 'MBA' 150000 'Sales']\n",
      " [0 'Delhi' 'MBA' 125000 'Sales']\n",
      " [1 'Tirunavelli' 'MBA' 100000 'Sales']\n",
      " [0 'Delhi' 'MBA' 175000 'Sales']\n",
      " [0 'Faridabad' 'MBA' 200000 'Banking']\n",
      " [0 'Delhi' 'MBA' 200000 'Banking']\n",
      " [0 'Surat' 'MBA' 200000 'Finance']\n",
      " [0 'Mumbai' 'MBA' 200000 'Finance']\n",
      " [0 'Mumbai' 'MBA' 200000 'Finance']\n",
      " [0 'Gurgaon' 'MBA' 200000 'Marketing']\n",
      " [0 'Chennai' 'MBA' 250000 'Marketing']\n",
      " [0 'Mumbai' 'MBA' 200000 'Marketing']\n",
      " [0 'Ahmedabad' 'MBA' 200000 'Marketing']\n",
      " [0 'Gurgaon' 'CA' 500000 'Audit']\n",
      " [0 'Delhi' 'CA' 200000 'Audit']\n",
      " [0 'Pune' 'CA' 400000 'Audit']\n",
      " [0 'Banglore' 'CA' 200000 'IT-Software']\n",
      " [0 'Mumbai' 'CA' 200000 'Audit']\n",
      " [0 'Delhi' 'B.Com' 200000 'Banking']\n",
      " [0 'Jaipur' 'B.Com' 200000 'Audit']\n",
      " [0 'Jaipur' 'B.Arch' 200000 'Designing']\n",
      " [0 'Hyderabad' 'B.Arch' 200000 'Designing']\n",
      " [0 'Delhi' 'B.Arch' 125000 'Designing']\n",
      " [0 'Ahmedabad' 'B.Arch' 100000 'Designing']\n",
      " [0 'Banglore' 'B.Arch' 100000 'Designing']\n",
      " [0 'Surat' 'B.Arch' 200000 'Designing']\n",
      " [0 'Pune' 'B.Arch' 400000 'Designing']\n",
      " [0 'Mohali' 'B.Arch' 80000 'Designing']\n",
      " [0 'Noida' 'B.Arch' 200000 'Designing']\n",
      " [0 'Banglore' 'B.Arch' 500000 'Teaching ']\n",
      " [0 'Delhi' 'B.Com' 350000 'Banking']\n",
      " [1 'Lucknow' 'B.Com' 400000 'Banking']\n",
      " [0 'Hyderabad' 'B.Pharm' 125000 'Pharmacy']\n",
      " [0 'Nasik' 'B.Pharm' 100000 'Pharmacy']\n",
      " [0 'Kolkata' 'B.Pharm' 100000 'Pharmacy']\n",
      " [0 'Mumbai' 'B.Pharm' 200000 'Pharmacy']\n",
      " [0 'Gurgaon' 'B.Pharm' 200000 'Pharmacy']\n",
      " [0 'Banglore' 'B.Pharm' 100000 'Pharmacy']\n",
      " [0 'Hyderabad' 'B.Pharm' 100000 'Pharmacy']\n",
      " [0 'Mumbai' 'MBBS' 200000 'Medicine']\n",
      " [2 'Faridabad' 'MBBS' 200000 'Medicine']\n",
      " [0 'Banglore' 'MBBS' 200000 'Medicine']\n",
      " [0 'Banglore' 'MBBS' 200000 'Medicine']\n",
      " [2 'Faridabad' 'MBBS' 200000 'Medicine']\n",
      " [2 'Faridabad' 'MBBS' 200000 'Medicine']\n",
      " [0 'Banglore' 'MBBS' 200000 'Medicine']\n",
      " [0 'Banglore' 'MBBS' 200000 'Medicine']\n",
      " [2 'Faridabad' 'MBBS' 200000 'Medicine']\n",
      " [0 'Mumbai' 'MBBS' 200000 'Medicine']\n",
      " [2 'Faridabad' 'MBBS' 200000 'Medicine']\n",
      " [0 'Mumbai' 'MBBS' 200000 'Medicine']\n",
      " [2 'Faridabad' 'MBBS' 200000 'Medicine']\n",
      " [2 'Faridabad' 'MBBS' 200000 'Medicine']\n",
      " [0 'Hyderabad' 'MBBS' 100000 'Medicine']\n",
      " [1 'Hyderabad' 'MBBS' 200000 'Medicine']\n",
      " [2 'Banglore' 'MBBS' 300000 'Medicine']\n",
      " [0 'Gurgaon' 'BDS' 100000 'Dentistry']\n",
      " [0 'Mumbai' 'LLB' 200000 'Law']\n",
      " [0 'Banglore' 'LLB' 200000 'Law']\n",
      " [2 'Noida' 'LLB' 100000 'Law']\n",
      " [1 'Delhi' 'LLB' 200000 'Law']\n",
      " [0 'Gurgaon' 'BJMC' 100000 'Journalism']\n",
      " [0 'Delhi' 'BJMC' 300000 'Journalism']\n",
      " [1 'Mumbai' 'BJMC' 100000 'Journalism']\n",
      " [0 'Delhi' 'BJMC' 100000 'Journalism']\n",
      " [0 'Kolkata' 'BJMC' 200000 'Journalism']\n",
      " [0 'Delhi' 'BJMC' 200000 'Journalism']\n",
      " [0 'Noida' 'BJMC' 200000 'Journalism']\n",
      " [0 'Hyderabad' 'BJMC' 200000 'Journalism']\n",
      " [0 'Gurgaon' 'BJMC' 200000 'Journalism']\n",
      " [0 'Lucknow' 'BHM' 200000 'Hotel Management']\n",
      " [0 'Mumbai' 'BHM' 250000 'Hotel Management']\n",
      " [0 'Mumbai' 'BHM' 200000 'Hotel Management']\n",
      " [0 'Mumbai' 'BHM' 200000 'Hotel Management']\n",
      " [3 'Coimbatore' 'BHM' 200000 'Hotel Management']\n",
      " [2 'Mumbai' 'BHM' 200000 'Hotel Management']\n",
      " [2 'Mumbai' 'BHM' 200000 'Hotel Management']\n",
      " [0 'Banglore' 'BHM' 200000 'Hotel Management']\n",
      " [2 'Mumbai' 'BHM' 200000 'Hotel Management']\n",
      " [1 'Hyderabad' 'BHM' 200000 'Hotel Management']] ['Field Engineers' 'UI Developer' 'Trainee Engineer' 'SEO intern'\n",
      " 'Field Engineers' 'UI Developer' 'Trainee Engineer' 'SEO intern'\n",
      " 'Digital Markating consultant' 'Digital Markating consultant'\n",
      " 'Web Designer' 'Software Engineer' 'Desktop Engineer' 'Php Developer'\n",
      " 'Data operation Engineer' 'Andriod Developer' 'Mobile App Developer'\n",
      " 'Mobile App Developer' 'Telecommunications Engineer' 'Software Engineer'\n",
      " 'Business Development ' 'Business Development ' 'Business Development '\n",
      " 'Sales Executive' 'Sales Coordinator' 'Business Development Executive'\n",
      " 'Business Development Executive' 'Online Sales Executive'\n",
      " 'Sales Associate' 'Marketing Executive' 'Computer Operator'\n",
      " 'Business Development Executive' 'Sales Support' 'Management Trainee'\n",
      " 'Assistant Credit Manager' 'Operation Executive'\n",
      " 'Client Service Executive' 'Jr Accountant' 'Sr Sales Executive'\n",
      " 'Business and Accounting Manager' 'Analyst GBS' 'Floor Executive'\n",
      " 'Executive-Audit Assurance' 'Associate Audit' 'Finance and Accounts'\n",
      " 'Assistant Manager' 'HR Consultant' 'Chartered Accountant'\n",
      " 'Audit Executive' 'Graphic Designer' 'BIM Modeller' 'Design Engineer'\n",
      " 'Graphic Designer' 'Graphic Designer' 'Graphic Designer'\n",
      " 'Design Engineer' 'Graphic Designer' 'Industrial Designer'\n",
      " 'Assistant Professor' 'Data Entry Operator' 'HDFC Bank Operator'\n",
      " 'Pharmacist' 'Pharmacist' 'Pharma Support Aide' 'Pharmacist' 'Pharmacist'\n",
      " 'Pharmacist Assistant' 'Hospital Pharmacist' 'Assistant Doctor'\n",
      " 'Senior Residant Doctor-Radiology' 'Duty Doctor' 'Duty Doctor'\n",
      " 'Attending Consultant-Neurology' 'Associate Consultant-Neurology'\n",
      " 'Phisician Assistant' 'Phisician Assistant'\n",
      " 'Attending Consultant-Nephrology' 'Registrar-Obstetrics and Gynaechology'\n",
      " 'Attending Consultant-Urology'\n",
      " 'Clinical Associate Obstetrics and Gynaecology'\n",
      " 'Associate Consultant-Urology' 'Associate Consultant-Nephrology' 'DMOs'\n",
      " 'Doctor' 'Doctor' 'Dental Officer' 'Charated Accountant'\n",
      " 'Associate Content Writer-Law and Order' 'Temporary Associate'\n",
      " 'Talent Advocate' 'Crypto Journalist' 'Automobile Journalist'\n",
      " 'Jr.Content Writer' 'Content Writer' 'Content Writer' 'Tech Journalist'\n",
      " 'Content Writer' 'Content Writer' 'Content Writer' 'Management Trainee'\n",
      " 'Reservation Officer' 'Bartender' 'Barista at Cafe' 'House Keeper'\n",
      " 'Assistant Restaurant Manager' 'Restaurant Manager'\n",
      " 'Social Media Executive' 'Chef' 'South Indian Chef']\n"
     ]
    }
   ],
   "source": [
    "X=dataset.iloc[:, [0,1,2,3,4]].values\n",
    "Y=dataset.iloc[:, 5].values\n",
    "print(X,Y)"
   ]
  },
  {
   "cell_type": "code",
   "execution_count": 6,
   "metadata": {},
   "outputs": [],
   "source": [
    "# from sklearn.preprocessing import LabelEncoder,OneHotEncoder\n",
    "labelencoder_X=LabelEncoder()\n",
    "# X[:, 0]=labelencoder_X.fit_transform(X[:, 0])\n",
    "# X[:, 1]=labelencoder_X.fit_transform(X[:, 1])\n",
    "onehotencoder_X=OneHotEncoder()\n",
    "X=onehotencoder_X.fit_transform(X).toarray()\n",
    "labelencoder_Y=LabelEncoder()\n",
    "Y=labelencoder_Y.fit_transform(Y)"
   ]
  },
  {
   "cell_type": "code",
   "execution_count": 7,
   "metadata": {},
   "outputs": [],
   "source": [
    "X_train,X_test,y_train,Y_test=train_test_split(X, Y, test_size=0.2,random_state=0)"
   ]
  },
  {
   "cell_type": "code",
   "execution_count": 8,
   "metadata": {},
   "outputs": [],
   "source": [
    "sc = StandardScaler()\n",
    "X_train = sc.fit_transform(X_train)\n",
    "X_test = sc.transform(X_test)"
   ]
  },
  {
   "cell_type": "code",
   "execution_count": 9,
   "metadata": {},
   "outputs": [
    {
     "data": {
      "text/plain": [
       "GaussianNB()"
      ]
     },
     "execution_count": 9,
     "metadata": {},
     "output_type": "execute_result"
    }
   ],
   "source": [
    "classifier = GaussianNB()\n",
    "classifier.fit(X_train, y_train)"
   ]
  },
  {
   "cell_type": "code",
   "execution_count": 10,
   "metadata": {},
   "outputs": [],
   "source": [
    "y_pred = classifier.predict(X_test)"
   ]
  },
  {
   "cell_type": "code",
   "execution_count": 11,
   "metadata": {},
   "outputs": [
    {
     "name": "stdout",
     "output_type": "stream",
     "text": [
      "546.4090909090909 81\n",
      "[16 72 39 65 69 18 52 65 72 11 27 66 72 52  8 43 72  8 30 44 25 37] [38 81 60 79 67 63 73 65 54 23  3 20  4 45 12 44 61  9 34 44  6 37]\n"
     ]
    }
   ],
   "source": [
    "print(mean_squared_error(Y_test,y_pred),max(Y) )\n",
    "print(y_pred,Y_test)"
   ]
  },
  {
   "cell_type": "code",
   "execution_count": 12,
   "metadata": {},
   "outputs": [],
   "source": [
    "import joblib"
   ]
  },
  {
   "cell_type": "code",
   "execution_count": 13,
   "metadata": {},
   "outputs": [
    {
     "data": {
      "text/plain": [
       "['RFModelforMPG2.pkl']"
      ]
     },
     "execution_count": 13,
     "metadata": {},
     "output_type": "execute_result"
    }
   ],
   "source": [
    "joblib.dump(classifier,'RFModelforMPG.pkl')\n",
    "joblib.dump(onehotencoder_X,'RFModelforMPG1.pkl')\n",
    "joblib.dump(labelencoder_Y,'RFModelforMPG2.pkl')"
   ]
  },
  {
   "cell_type": "code",
   "execution_count": 14,
   "metadata": {},
   "outputs": [],
   "source": [
    "modelReload=joblib.load('RFModelforMPG.pkl')"
   ]
  },
  {
   "cell_type": "code",
   "execution_count": 15,
   "metadata": {},
   "outputs": [
    {
     "data": {
      "text/plain": [
       "array([16, 72, 39, 65, 69, 18, 52, 65, 72, 11, 27, 66, 72, 52,  8, 43, 72,\n",
       "        8, 30, 44, 25, 37])"
      ]
     },
     "execution_count": 15,
     "metadata": {},
     "output_type": "execute_result"
    }
   ],
   "source": [
    "modelReload.predict(X_test)"
   ]
  },
  {
   "cell_type": "code",
   "execution_count": 16,
   "metadata": {},
   "outputs": [],
   "source": [
    "temp={}\n",
    "temp['sector']='Sales'\n",
    "temp['location']='Mumbai'\n",
    "temp['salary']=200000\n",
    "temp['qualification']='MBA'\n",
    "temp['expierence']=0"
   ]
  },
  {
   "cell_type": "code",
   "execution_count": 17,
   "metadata": {},
   "outputs": [],
   "source": [
    "testDtaa=pd.DataFrame({'x':temp}).transpose()"
   ]
  },
  {
   "cell_type": "code",
   "execution_count": 18,
   "metadata": {},
   "outputs": [
    {
     "data": {
      "text/html": [
       "<div>\n",
       "<style scoped>\n",
       "    .dataframe tbody tr th:only-of-type {\n",
       "        vertical-align: middle;\n",
       "    }\n",
       "\n",
       "    .dataframe tbody tr th {\n",
       "        vertical-align: top;\n",
       "    }\n",
       "\n",
       "    .dataframe thead th {\n",
       "        text-align: right;\n",
       "    }\n",
       "</style>\n",
       "<table border=\"1\" class=\"dataframe\">\n",
       "  <thead>\n",
       "    <tr style=\"text-align: right;\">\n",
       "      <th></th>\n",
       "      <th>expierence</th>\n",
       "      <th>location</th>\n",
       "      <th>qualification</th>\n",
       "      <th>salary</th>\n",
       "      <th>sector</th>\n",
       "    </tr>\n",
       "  </thead>\n",
       "  <tbody>\n",
       "    <tr>\n",
       "      <th>x</th>\n",
       "      <td>0</td>\n",
       "      <td>Mumbai</td>\n",
       "      <td>MBA</td>\n",
       "      <td>200000</td>\n",
       "      <td>Sales</td>\n",
       "    </tr>\n",
       "  </tbody>\n",
       "</table>\n",
       "</div>"
      ],
      "text/plain": [
       "  expierence location qualification  salary sector\n",
       "x          0   Mumbai           MBA  200000  Sales"
      ]
     },
     "execution_count": 18,
     "metadata": {},
     "output_type": "execute_result"
    }
   ],
   "source": [
    "testDtaa"
   ]
  },
  {
   "cell_type": "code",
   "execution_count": 19,
   "metadata": {},
   "outputs": [],
   "source": [
    "testDtaa=onehotencoder_X.transform(testDtaa).toarray()"
   ]
  },
  {
   "cell_type": "code",
   "execution_count": 20,
   "metadata": {},
   "outputs": [
    {
     "data": {
      "text/plain": [
       "array([[1., 0., 0., 0., 0., 0., 0., 0., 0., 0., 0., 0., 0., 0., 0., 0.,\n",
       "        0., 0., 0., 0., 1., 0., 0., 0., 0., 0., 0., 0., 0., 0., 0., 0.,\n",
       "        0., 0., 0., 0., 0., 0., 1., 0., 0., 0., 0., 0., 0., 0., 0., 1.,\n",
       "        0., 0., 0., 0., 0., 0., 0., 0., 0., 0., 0., 0., 0., 0., 0., 0.,\n",
       "        0., 0., 0., 1., 0., 0.]])"
      ]
     },
     "execution_count": 20,
     "metadata": {},
     "output_type": "execute_result"
    }
   ],
   "source": [
    "testDtaa"
   ]
  },
  {
   "cell_type": "code",
   "execution_count": 21,
   "metadata": {},
   "outputs": [
    {
     "data": {
      "text/plain": [
       "20"
      ]
     },
     "execution_count": 21,
     "metadata": {},
     "output_type": "execute_result"
    }
   ],
   "source": [
    "modelReload.predict(testDtaa)[0]"
   ]
  },
  {
   "cell_type": "code",
   "execution_count": 22,
   "metadata": {},
   "outputs": [
    {
     "name": "stdout",
     "output_type": "stream",
     "text": [
      "[41 80 79 65 41 80 79 65 37 37 81 72 36 61 33  1 54 54 77 72 20 20 20 68\n",
      " 67 21 21 55 66 53 28 21 69 52  2 56 26 50 74 22  0 43 40  7 42  4 46 24\n",
      " 15 44 17 35 44 44 44 35 44 49  5 32 45 58 58 57 58 58 59 47  3 70 39 39\n",
      " 13  9 60 60 12 62 14 27 10  8 31 38 38 34 23 11 78 75 30 16 51 29 29 76\n",
      " 29 29 29 52 63 19 18 48  6 64 71 25 73]\n"
     ]
    }
   ],
   "source": [
    "print(Y)"
   ]
  },
  {
   "cell_type": "code",
   "execution_count": 23,
   "metadata": {},
   "outputs": [
    {
     "name": "stdout",
     "output_type": "stream",
     "text": [
      "['Business Development ']\n"
     ]
    }
   ],
   "source": [
    "res=labelencoder_Y.inverse_transform([modelReload.predict(testDtaa)[0]])\n",
    "print(res)"
   ]
  },
  {
   "cell_type": "code",
   "execution_count": null,
   "metadata": {},
   "outputs": [],
   "source": []
  }
 ],
 "metadata": {
  "kernelspec": {
   "display_name": "Python 3",
   "language": "python",
   "name": "python3"
  },
  "language_info": {
   "codemirror_mode": {
    "name": "ipython",
    "version": 3
   },
   "file_extension": ".py",
   "mimetype": "text/x-python",
   "name": "python",
   "nbconvert_exporter": "python",
   "pygments_lexer": "ipython3",
   "version": "3.8.3"
  }
 },
 "nbformat": 4,
 "nbformat_minor": 4
}
